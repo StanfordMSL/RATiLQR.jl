{
 "cells": [
  {
   "cell_type": "code",
   "execution_count": 1,
   "metadata": {},
   "outputs": [],
   "source": [
    "using RATiLQR\n",
    "using LinearAlgebra\n",
    "using Random\n",
    "using Distributions"
   ]
  },
  {
   "cell_type": "code",
   "execution_count": 2,
   "metadata": {},
   "outputs": [],
   "source": [
    "\"\"\"\n",
    "    RATCEMSolver(μ_init_array::Vector{Vector{Float64}},\n",
    "    Σ_init_array::Vector{Matrix{Float64}}; kwargs...)\n",
    "\n",
    "RAT CEM Solver initialized with `μ_init_array = [μ_0,...,μ_{N-1}]` and\n",
    "`Σ_init_array = [Σ_0,...,Σ_{N-1}]`, where the initial control distribution at time\n",
    "`k` is a Gaussian distribution `Distributions.MvNormal(μ_k, Σ_k)`.\n",
    "\n",
    "# Optional Keyword Arguments\n",
    "- `num_control_samples::Int64` -- number of Monte Carlo samples for the control\n",
    "  trajectory. Default: `10`.\n",
    "- `deterministic_dynamics::Bool` -- determinies whether to use deterministic prediction\n",
    "  for the dynamics. If `true`, `num_trajectory_samples` must be 1. Default: `false`.\n",
    "- `num_trajectory_samples::Int64` -- number of Monte Carlo samples for the state\n",
    "  trajectory. Default: `10`.\n",
    "- `μ_θ_init::Float64` -- initial mean parameter `μ_θ` for the risk-sensitivity. \n",
    "  Default: `1.0`.\n",
    "- `σ_θ_init::Float64` -- initial covariance parameter `σ_θ` for the risk-sensitivity. \n",
    "  Default: `2.0`.\n",
    "- `num_risk_samples::Int64` -- number of Monte Carlo samples for the risk-sensitivity. \n",
    "  Default: `10`.\n",
    "- `num_elite::Int64` -- number of elite samples. Default: `10`.\n",
    "- `iter_max::Int64` -- maximum iteration number. Default: `5`.\n",
    "- `smoothing_factor::Float64` -- smoothing factor in (0, 1), used to update the\n",
    "  mean and the variance of the Cross Entropy distribution for the next iteration.\n",
    "  If `smoothing_factor` is `0.0`, the updated distribution is independent of the\n",
    "  previous iteration. If it is `1.0`, the updated distribution is the same as the\n",
    "  previous iteration. Default: `0.1`.\n",
    "- `mean_carry_over::Bool` -- save `μ_array` & `μ_θ` of the last iteration and use it to\n",
    "  initialize `μ_array` & `μ_θ` in the next call to `solve!`. Default: `false`.\n",
    "\"\"\"\n",
    "mutable struct RATCEMSolver\n",
    "    # CE solver parameters\n",
    "    num_control_samples::Int64\n",
    "    deterministic_dynamics::Bool\n",
    "    num_trajectory_samples::Int64\n",
    "    num_risk_samples::Int64\n",
    "    num_elite::Int64\n",
    "    iter_max::Int64\n",
    "    smoothing_factor::Float64\n",
    "    mean_carry_over::Bool\n",
    "    \n",
    "    # action distributions\n",
    "    μ_init_array::Vector{Vector{Float64}}\n",
    "    Σ_init_array::Vector{Matrix{Float64}}\n",
    "    μ_array::Vector{Vector{Float64}}\n",
    "    Σ_array::Vector{Matrix{Float64}}\n",
    "    # risk_param distributions\n",
    "    μ_θ_init::Float64\n",
    "    σ_θ_init::Float64\n",
    "    μ_θ::Float64\n",
    "    σ_θ::Float64\n",
    "    N::Int64 # control sequence length > 0 (must be the same as N in FiniteHorizonGenerativeProblem)\n",
    "    iter_current::Int64\n",
    "end;"
   ]
  },
  {
   "cell_type": "code",
   "execution_count": 3,
   "metadata": {},
   "outputs": [],
   "source": [
    "function RATCEMSolver(μ_init_array::Vector{Vector{Float64}},\n",
    "                      Σ_init_array::Vector{Matrix{Float64}};\n",
    "                      num_control_samples=10,\n",
    "                      deterministic_dynamics=false,\n",
    "                      num_trajectory_samples=10,\n",
    "                      μ_θ_init=1.0,\n",
    "                      σ_θ_init=2.0,\n",
    "                      num_risk_samples=10,\n",
    "                      num_elite=10,\n",
    "                      iter_max=5,\n",
    "                      smoothing_factor=0.1,\n",
    "                      mean_carry_over=false)\n",
    "    \n",
    "    @assert length(μ_init_array) == length(Σ_init_array);\n",
    "    if deterministic_dynamics\n",
    "        @assert num_trajectory_samples == 1 \"num_trajectory_samples must to be 1\";\n",
    "    end\n",
    "    μ_array, Σ_array = copy(μ_init_array), copy(Σ_init_array);\n",
    "    μ_θ, σ_θ = μ_θ_init, σ_θ_init;\n",
    "    N = length(μ_init_array);\n",
    "    iter_current = 0;\n",
    "    \n",
    "    return RATCEMSolver(num_control_samples, deterministic_dynamics,\n",
    "                        num_trajectory_samples, num_risk_samples,\n",
    "                        num_elite, iter_max, smoothing_factor, \n",
    "                        mean_carry_over, \n",
    "                        μ_init_array, Σ_init_array, \n",
    "                        μ_array, Σ_array,\n",
    "                        μ_θ_init, σ_θ_init, μ_θ, σ_θ,\n",
    "                        N, iter_current)\n",
    "end;"
   ]
  },
  {
   "cell_type": "code",
   "execution_count": 5,
   "metadata": {},
   "outputs": [
    {
     "data": {
      "text/plain": [
       "initialize! (generic function with 1 method)"
      ]
     },
     "execution_count": 5,
     "metadata": {},
     "output_type": "execute_result"
    }
   ],
   "source": [
    "function initialize!(rat_cem_solver::RATCEMSolver)\n",
    "    rat_cem_solver.iter_current = 0;\n",
    "    rat_cem_solver.μ_array = copy(rat_cem_solver.μ_init_array);\n",
    "    rat_cem_solver.Σ_array = copy(rat_cem_solver.Σ_init_array);\n",
    "    rat_cem_solver.μ_θ = rat_cem_solver.μ_θ_init;\n",
    "    rat_cem_solver.σ_θ = rat_cem_solver.σ_θ_init;\n",
    "    end"
   ]
  }
 ],
 "metadata": {
  "@webio": {
   "lastCommId": null,
   "lastKernelId": null
  },
  "kernelspec": {
   "display_name": "Julia 1.5.2",
   "language": "julia",
   "name": "julia-1.5"
  },
  "language_info": {
   "file_extension": ".jl",
   "mimetype": "application/julia",
   "name": "julia",
   "version": "1.5.2"
  }
 },
 "nbformat": 4,
 "nbformat_minor": 2
}
